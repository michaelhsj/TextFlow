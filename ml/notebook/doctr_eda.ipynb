{
 "cells": [
  {
   "cell_type": "code",
   "execution_count": null,
   "id": "552182b6",
   "metadata": {},
   "outputs": [],
   "source": [
    "%load_ext autoreload\n",
    "%autoreload 2\n",
    "from ml.ingest.textocr_to_torch import TextOCRDoctrDetDataset, doctr_detection_collate\n",
    "from torch.utils.data import DataLoader\n",
    "from doctr.models import db_resnet50, DBNet\n",
    "from pathlib import Path\n",
    "import torch\n",
    "import os\n",
    "import mlflow\n",
    "import getpass"
   ]
  },
  {
   "cell_type": "code",
   "execution_count": null,
   "id": "91369b19",
   "metadata": {},
   "outputs": [],
   "source": [
    "LR = 0.001\n",
    "BATCH_SIZE = 4\n",
    "MAX_STEPS = 0\n",
    "MODEL_DIR = Path('../../model')\n",
    "DATASET_DIR = Path('../../dataset/TextOCR')\n",
    "NUM_SAMPLES = 32"
   ]
  },
  {
   "cell_type": "code",
   "execution_count": null,
   "id": "790d0e36",
   "metadata": {},
   "outputs": [],
   "source": [
    "experiment_name = f\"db_resnet50_text_ocr_{getpass.getuser()}\"\n",
    "if tracking_uri := 'http://34.152.38.196//mlflow':\n",
    "    print('MLFlow Tracking URI:', tracking_uri)\n",
    "    mlflow.set_tracking_uri(tracking_uri)\n",
    "    mlflow.set_experiment(experiment_name)\n",
    "else:\n",
    "    raise RuntimeError(\"No MLFlow Tracking URI in env\")"
   ]
  },
  {
   "cell_type": "code",
   "execution_count": null,
   "id": "bd8072fd",
   "metadata": {},
   "outputs": [],
   "source": [
    "dataset = TextOCRDoctrDetDataset(images_dir=DATASET_DIR/\"train_val_images\", \n",
    "                                 json_path=DATASET_DIR/\"TextOCR_0.1_train.json\",\n",
    "                                 num_samples=NUM_SAMPLES)\n",
    "loader = DataLoader(dataset, batch_size=BATCH_SIZE, shuffle=True, collate_fn=doctr_detection_collate)"
   ]
  },
  {
   "cell_type": "code",
   "execution_count": null,
   "id": "5212ecb8",
   "metadata": {},
   "outputs": [],
   "source": [
    "model: DBNet = db_resnet50(pretrained=False).train()\n",
    "\n",
    "optimizer = torch.optim.Adam([p for p in model.parameters() if p.requires_grad], LR)\n",
    "\n",
    "run_name = os.getenv('MLFLOW_RUN_NAME', 'doctr-dbnet-lite')\n",
    "\n",
    "with mlflow.start_run(run_name=run_name) as run:\n",
    "    mlflow.log_params({\n",
    "        'learning_rate': LR,\n",
    "        'batch_size': BATCH_SIZE,\n",
    "        'train_samples': len(dataset),\n",
    "        'max_steps': MAX_STEPS,\n",
    "    })\n",
    "    mlflow.set_tag('model_architecture', 'db_resnet50')\n",
    "    mlflow.set_tag('dataset', f'textocr_subset_{NUM_SAMPLES}')\n",
    "\n",
    "    for step, (images, targets) in enumerate(loader, start=1):\n",
    "        if step > MAX_STEPS:\n",
    "            break\n",
    "\n",
    "        optimizer.zero_grad(set_to_none=True)\n",
    "        train_loss = model(images, targets)['loss']\n",
    "        train_loss.backward()\n",
    "        torch.nn.utils.clip_grad_norm_(model.parameters(), 5)\n",
    "        optimizer.step()\n",
    "\n",
    "        mlflow.log_metric('train_loss', train_loss.item(), step=step)\n",
    "        print(step, train_loss.item())\n",
    "\n",
    "    MODEL_DIR.mkdir(parents=True, exist_ok=True)\n",
    "    model_path = MODEL_DIR / 'dbnet_textocr.pt'\n",
    "    torch.save(model.state_dict(), model_path)\n",
    "    mlflow.log_artifact(str(model_path))\n",
    "    mlflow.pytorch.log_model(model, name='model')\n",
    "\n",
    "print('MLflow run logged:', run.info.run_id)\n"
   ]
  },
  {
   "cell_type": "code",
   "execution_count": null,
   "id": "6db0af77",
   "metadata": {},
   "outputs": [],
   "source": [
    "print('Local checkpoint stored at', MODEL_DIR / 'dbnet_textocr.pt')"
   ]
  }
 ],
 "metadata": {
  "kernelspec": {
   "display_name": ".venv-textflow (3.11.8)",
   "language": "python",
   "name": "python3"
  },
  "language_info": {
   "codemirror_mode": {
    "name": "ipython",
    "version": 3
   },
   "file_extension": ".py",
   "mimetype": "text/x-python",
   "name": "python",
   "nbconvert_exporter": "python",
   "pygments_lexer": "ipython3",
   "version": "3.11.8"
  }
 },
 "nbformat": 4,
 "nbformat_minor": 5
}
