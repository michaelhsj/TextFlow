{
  "cells": [
    {
      "cell_type": "code",
      "execution_count": null,
      "id": "552182b6",
      "metadata": {},
      "outputs": [],
      "source": [
        "%load_ext autoreload\n",
        "%autoreload 2\n",
        "from ml.ingest.textocr_to_torch import TextOCRDoctrDetDataset, doctr_detection_collate\n",
        "from torch.utils.data import DataLoader\n",
        "from doctr.models import db_resnet50, DBNet\n",
        "from pathlib import Path\n",
        "import torch"
      ]
    },
    {
      "cell_type": "code",
      "execution_count": null,
      "id": "91369b19",
      "metadata": {},
      "outputs": [],
      "source": [
        "LR = 0.001\n",
        "BATCH_SIZE = 4\n",
        "MODEL_DIR = Path('../../model')\n",
        "\n",
        "dataset = TextOCRDoctrDetDataset(num_samples=32)\n",
        "loader = DataLoader(dataset, batch_size=BATCH_SIZE, shuffle=True, collate_fn=doctr_detection_collate)"
      ]
    },
    {
      "cell_type": "code",
      "execution_count": null,
      "id": "5212ecb8",
      "metadata": {},
      "outputs": [],
      "source": [
        "model: DBNet = db_resnet50(pretrained=False).train()\n",
        "\n",
        "optimizer = torch.optim.Adam([p for p in model.parameters() if p.requires_grad], LR)\n",
        "\n",
        "for batch, (images, targets) in enumerate(loader):\n",
        "    optimizer.zero_grad(set_to_none=True)\n",
        "    train_loss = model(images, targets)[\"loss\"]\n",
        "    train_loss.backward()\n",
        "    torch.nn.utils.clip_grad_norm_(model.parameters(), 5)\n",
        "    optimizer.step()\n",
        "\n",
        "    print(batch, train_loss.item())\n",
        "\n",
        "    if batch >= 5:\n",
        "        break"
      ]
    },
    {
      "cell_type": "code",
      "execution_count": null,
      "id": "6db0af77",
      "metadata": {},
      "outputs": [],
      "source": [
        "torch.save(model.state_dict(), MODEL_DIR / 'dbnet_textocr.pt')"
      ]
    }
  ],
  "metadata": {
    "kernelspec": {
      "display_name": ".venv-textflow (3.11.8)",
      "language": "python",
      "name": "python3"
    },
    "language_info": {
      "codemirror_mode": {
        "name": "ipython",
        "version": 3
      },
      "file_extension": ".py",
      "mimetype": "text/x-python",
      "name": "python",
      "nbconvert_exporter": "python",
      "pygments_lexer": "ipython3",
      "version": "3.11.8"
    }
  },
  "nbformat": 4,
  "nbformat_minor": 5
}
